{
 "cells": [
  {
   "cell_type": "code",
   "execution_count": 1,
   "id": "3305ac97",
   "metadata": {},
   "outputs": [],
   "source": [
    "import string\n",
    "from collections import Counter\n",
    "import matplotlib.pyplot as plt"
   ]
  },
  {
   "cell_type": "code",
   "execution_count": 2,
   "id": "59e3c313",
   "metadata": {},
   "outputs": [
    {
     "data": {
      "text/plain": [
       "\"No one is devoid of emotion. Whether sad, happy, melancholic or any other, everyone feels something. Dealing with sad emotions is a terrible affair for anyone. It creates a sombre mood, which many do not want to associate with. People handle emotions differently, and you should find a way of expressing yourself rather than keeping to yourself. It might be heartbreak or a terrible event in your life that's bringing a lot of negative energy. Sad messages can allow you to share your sadness or emotions with other people. With the advent of social media, there is no better way to express your heartfelt sorrowful quotes than using meaningful words.\""
      ]
     },
     "execution_count": 2,
     "metadata": {},
     "output_type": "execute_result"
    }
   ],
   "source": [
    "text = open(\"read.txt\", encoding='utf-8').read()\n",
    "text"
   ]
  },
  {
   "cell_type": "code",
   "execution_count": 3,
   "id": "aefd1ec6",
   "metadata": {},
   "outputs": [
    {
     "data": {
      "text/plain": [
       "\"no one is devoid of emotion. whether sad, happy, melancholic or any other, everyone feels something. dealing with sad emotions is a terrible affair for anyone. it creates a sombre mood, which many do not want to associate with. people handle emotions differently, and you should find a way of expressing yourself rather than keeping to yourself. it might be heartbreak or a terrible event in your life that's bringing a lot of negative energy. sad messages can allow you to share your sadness or emotions with other people. with the advent of social media, there is no better way to express your heartfelt sorrowful quotes than using meaningful words.\""
      ]
     },
     "execution_count": 3,
     "metadata": {},
     "output_type": "execute_result"
    }
   ],
   "source": [
    "#cleaning the text\n",
    "\n",
    "lower_case=text.lower()\n",
    "lower_case"
   ]
  },
  {
   "cell_type": "code",
   "execution_count": 4,
   "id": "ec0d6d37",
   "metadata": {},
   "outputs": [
    {
     "data": {
      "text/plain": [
       "'no one is devoid of emotion whether sad happy melancholic or any other everyone feels something dealing with sad emotions is a terrible affair for anyone it creates a sombre mood which many do not want to associate with people handle emotions differently and you should find a way of expressing yourself rather than keeping to yourself it might be heartbreak or a terrible event in your life thats bringing a lot of negative energy sad messages can allow you to share your sadness or emotions with other people with the advent of social media there is no better way to express your heartfelt sorrowful quotes than using meaningful words'"
      ]
     },
     "execution_count": 4,
     "metadata": {},
     "output_type": "execute_result"
    }
   ],
   "source": [
    "clean_text=lower_case.translate(str.maketrans(\"\",\"\",string.punctuation))\n",
    "clean_text"
   ]
  },
  {
   "cell_type": "code",
   "execution_count": 5,
   "id": "fde98010",
   "metadata": {},
   "outputs": [
    {
     "data": {
      "text/plain": [
       "['no',\n",
       " 'one',\n",
       " 'is',\n",
       " 'devoid',\n",
       " 'of',\n",
       " 'emotion',\n",
       " 'whether',\n",
       " 'sad',\n",
       " 'happy',\n",
       " 'melancholic',\n",
       " 'or',\n",
       " 'any',\n",
       " 'other',\n",
       " 'everyone',\n",
       " 'feels',\n",
       " 'something',\n",
       " 'dealing',\n",
       " 'with',\n",
       " 'sad',\n",
       " 'emotions',\n",
       " 'is',\n",
       " 'a',\n",
       " 'terrible',\n",
       " 'affair',\n",
       " 'for',\n",
       " 'anyone',\n",
       " 'it',\n",
       " 'creates',\n",
       " 'a',\n",
       " 'sombre',\n",
       " 'mood',\n",
       " 'which',\n",
       " 'many',\n",
       " 'do',\n",
       " 'not',\n",
       " 'want',\n",
       " 'to',\n",
       " 'associate',\n",
       " 'with',\n",
       " 'people',\n",
       " 'handle',\n",
       " 'emotions',\n",
       " 'differently',\n",
       " 'and',\n",
       " 'you',\n",
       " 'should',\n",
       " 'find',\n",
       " 'a',\n",
       " 'way',\n",
       " 'of',\n",
       " 'expressing',\n",
       " 'yourself',\n",
       " 'rather',\n",
       " 'than',\n",
       " 'keeping',\n",
       " 'to',\n",
       " 'yourself',\n",
       " 'it',\n",
       " 'might',\n",
       " 'be',\n",
       " 'heartbreak',\n",
       " 'or',\n",
       " 'a',\n",
       " 'terrible',\n",
       " 'event',\n",
       " 'in',\n",
       " 'your',\n",
       " 'life',\n",
       " 'thats',\n",
       " 'bringing',\n",
       " 'a',\n",
       " 'lot',\n",
       " 'of',\n",
       " 'negative',\n",
       " 'energy',\n",
       " 'sad',\n",
       " 'messages',\n",
       " 'can',\n",
       " 'allow',\n",
       " 'you',\n",
       " 'to',\n",
       " 'share',\n",
       " 'your',\n",
       " 'sadness',\n",
       " 'or',\n",
       " 'emotions',\n",
       " 'with',\n",
       " 'other',\n",
       " 'people',\n",
       " 'with',\n",
       " 'the',\n",
       " 'advent',\n",
       " 'of',\n",
       " 'social',\n",
       " 'media',\n",
       " 'there',\n",
       " 'is',\n",
       " 'no',\n",
       " 'better',\n",
       " 'way',\n",
       " 'to',\n",
       " 'express',\n",
       " 'your',\n",
       " 'heartfelt',\n",
       " 'sorrowful',\n",
       " 'quotes',\n",
       " 'than',\n",
       " 'using',\n",
       " 'meaningful',\n",
       " 'words']"
      ]
     },
     "execution_count": 5,
     "metadata": {},
     "output_type": "execute_result"
    }
   ],
   "source": [
    "tokenized_words=clean_text.split()\n",
    "tokenized_words"
   ]
  },
  {
   "cell_type": "code",
   "execution_count": 6,
   "id": "8f50027f",
   "metadata": {},
   "outputs": [],
   "source": [
    "stop_words=[\"i\", \"me\", \"my\", \"myself\", \"we\", \"our\", \"ours\", \"ourselves\", \"you\", \"your\", \"yours\", \"yourself\",\n",
    "              \"yourselves\", \"he\", \"him\", \"his\", \"himself\", \"she\", \"her\", \"hers\", \"herself\", \"it\", \"its\", \"itself\",\n",
    "              \"they\", \"them\", \"their\", \"theirs\", \"themselves\", \"what\", \"which\", \"who\", \"whom\", \"this\", \"that\", \"these\",\n",
    "              \"those\", \"am\", \"is\", \"are\", \"was\", \"were\", \"be\", \"been\", \"being\", \"have\", \"has\", \"had\", \"having\", \"do\",\n",
    "              \"does\", \"did\", \"doing\", \"a\", \"an\", \"the\", \"and\", \"but\", \"if\", \"or\", \"because\", \"as\", \"until\", \"while\",\n",
    "              \"of\", \"at\", \"by\", \"for\", \"with\", \"about\", \"against\", \"between\", \"into\", \"through\", \"during\", \"before\",\n",
    "              \"after\", \"above\", \"below\", \"to\", \"from\", \"up\", \"down\", \"in\", \"out\", \"on\", \"off\", \"over\", \"under\", \"again\",\n",
    "              \"further\", \"then\", \"once\", \"here\", \"there\", \"when\", \"where\", \"why\", \"how\", \"all\", \"any\", \"both\", \"each\",\n",
    "              \"few\", \"more\", \"most\", \"other\", \"some\", \"such\", \"no\", \"nor\", \"not\", \"only\", \"own\", \"same\", \"so\", \"than\",\n",
    "              \"too\", \"very\", \"s\", \"t\", \"can\", \"will\", \"just\", \"don\", \"should\", \"now\"]\n",
    "\n"
   ]
  },
  {
   "cell_type": "code",
   "execution_count": 7,
   "id": "59a22abd",
   "metadata": {},
   "outputs": [
    {
     "data": {
      "text/plain": [
       "['one',\n",
       " 'devoid',\n",
       " 'emotion',\n",
       " 'whether',\n",
       " 'sad',\n",
       " 'happy',\n",
       " 'melancholic',\n",
       " 'everyone',\n",
       " 'feels',\n",
       " 'something',\n",
       " 'dealing',\n",
       " 'sad',\n",
       " 'emotions',\n",
       " 'terrible',\n",
       " 'affair',\n",
       " 'anyone',\n",
       " 'creates',\n",
       " 'sombre',\n",
       " 'mood',\n",
       " 'many',\n",
       " 'want',\n",
       " 'associate',\n",
       " 'people',\n",
       " 'handle',\n",
       " 'emotions',\n",
       " 'differently',\n",
       " 'find',\n",
       " 'way',\n",
       " 'expressing',\n",
       " 'rather',\n",
       " 'keeping',\n",
       " 'might',\n",
       " 'heartbreak',\n",
       " 'terrible',\n",
       " 'event',\n",
       " 'life',\n",
       " 'thats',\n",
       " 'bringing',\n",
       " 'lot',\n",
       " 'negative',\n",
       " 'energy',\n",
       " 'sad',\n",
       " 'messages',\n",
       " 'allow',\n",
       " 'share',\n",
       " 'sadness',\n",
       " 'emotions',\n",
       " 'people',\n",
       " 'advent',\n",
       " 'social',\n",
       " 'media',\n",
       " 'better',\n",
       " 'way',\n",
       " 'express',\n",
       " 'heartfelt',\n",
       " 'sorrowful',\n",
       " 'quotes',\n",
       " 'using',\n",
       " 'meaningful',\n",
       " 'words']"
      ]
     },
     "execution_count": 7,
     "metadata": {},
     "output_type": "execute_result"
    }
   ],
   "source": [
    "final_words=[]\n",
    "for i in tokenized_words:\n",
    "    if i not in stop_words:\n",
    "        final_words.append(i)\n",
    "final_words"
   ]
  },
  {
   "cell_type": "code",
   "execution_count": 8,
   "id": "13e5bb3c",
   "metadata": {},
   "outputs": [
    {
     "name": "stdout",
     "output_type": "stream",
     "text": [
      "[' happy', ' sad', ' sad']\n"
     ]
    }
   ],
   "source": [
    "emotions_list=[]\n",
    "with open('emotions.txt') as file:\n",
    "    for line in file:\n",
    "        clear_line=line.replace(\"\\n\",'').replace(\",\",\"\").replace(\"'\",\"\").strip()\n",
    "        word,emotion=clear_line.split(\":\")\n",
    "        if word in final_words:\n",
    "            emotions_list.append(emotion)\n",
    "            \n",
    "print(emotions_list)"
   ]
  },
  {
   "cell_type": "code",
   "execution_count": 9,
   "id": "ad2e72bc",
   "metadata": {},
   "outputs": [
    {
     "data": {
      "text/plain": [
       "Counter({' happy': 1, ' sad': 2})"
      ]
     },
     "execution_count": 9,
     "metadata": {},
     "output_type": "execute_result"
    }
   ],
   "source": [
    "w=Counter(emotions_list)\n",
    "w"
   ]
  },
  {
   "cell_type": "code",
   "execution_count": 10,
   "id": "4eab6cc8",
   "metadata": {},
   "outputs": [
    {
     "data": {
      "image/png": "[encoded data removed]",
      "text/plain": [
       "<Figure size 432x288 with 1 Axes>"
      ]
     },
     "metadata": {
      "needs_background": "light"
     },
     "output_type": "display_data"
    }
   ],
   "source": [
    "fig,ax1=plt.subplots()\n",
    "ax1.bar(w.keys(),w.values())\n",
    "plt.show()"
   ]
  },
  {
   "cell_type": "code",
   "execution_count": 11,
   "id": "ea1c20d8",
   "metadata": {},
   "outputs": [
    {
     "name": "stderr",
     "output_type": "stream",
     "text": [
      "[nltk_data] Downloading package vader_lexicon to\n",
      "[nltk_data]     C:\\Users\\anirb\\AppData\\Roaming\\nltk_data...\n",
      "[nltk_data]   Package vader_lexicon is already up-to-date!\n"
     ]
    }
   ],
   "source": [
    "import nltk\n",
    "nltk.download('vader_lexicon')\n",
    "from nltk.sentiment.vader import SentimentIntensityAnalyzer"
   ]
  },
  {
   "cell_type": "code",
   "execution_count": 15,
   "id": "48f2c78a",
   "metadata": {},
   "outputs": [
    {
     "name": "stdout",
     "output_type": "stream",
     "text": [
      "{'neg': 0.255, 'neu': 0.597, 'pos': 0.147, 'compound': -0.9351}\n",
      "Negetive statement\n"
     ]
    }
   ],
   "source": [
    "def sentiment_analyze(senti_text):\n",
    "    score=SentimentIntensityAnalyzer().polarity_scores(clean_text)\n",
    "    neg=score['neg']\n",
    "    pos=score['pos']\n",
    "    print(score)\n",
    "    if pos>neg:\n",
    "        print(\"Positive statement\")\n",
    "    elif pos<neg:\n",
    "        print(\"Negetive statement\")\n",
    "    else:\n",
    "        print(\"Neutral statement\")\n",
    "sentiment_analyze('read.txt')"
   ]
  }
 ],
 "metadata": {
  "kernelspec": {
   "display_name": "Python 3 (ipykernel)",
   "language": "python",
   "name": "python3"
  },
  "language_info": {
   "codemirror_mode": {
    "name": "ipython",
    "version": 3
   },
   "file_extension": ".py",
   "mimetype": "text/x-python",
   "name": "python",
   "nbconvert_exporter": "python",
   "pygments_lexer": "ipython3",
   "version": "3.9.12"
  }
 },
 "nbformat": 4,
 "nbformat_minor": 5
}
